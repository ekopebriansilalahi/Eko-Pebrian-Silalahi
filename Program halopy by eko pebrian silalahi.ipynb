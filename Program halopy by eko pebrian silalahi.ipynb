{
 "cells": [
  {
   "cell_type": "code",
   "execution_count": 2,
   "id": "aae69a6e",
   "metadata": {},
   "outputs": [
    {
     "name": "stdout",
     "output_type": "stream",
     "text": [
      "Hellow World\n"
     ]
    }
   ],
   "source": [
    "print (\"Hellow World\")"
   ]
  },
  {
   "cell_type": "markdown",
   "id": "4e7a4205",
   "metadata": {},
   "source": [
    "# Eko Pebrian Silalahi"
   ]
  },
  {
   "cell_type": "markdown",
   "id": "14a44969",
   "metadata": {},
   "source": [
    "20/459222/PA/19883"
   ]
  },
  {
   "cell_type": "code",
   "execution_count": 3,
   "id": "8a0c7d90",
   "metadata": {},
   "outputs": [],
   "source": [
    "#==========================#\n",
    "#    Tugas Praktikum 05    #\n",
    "#      Program halo.py     #\n",
    "# by. Eko Pebrian Silalahi #\n",
    "#                          #\n",
    "#==========================#"
   ]
  },
  {
   "cell_type": "code",
   "execution_count": null,
   "id": "3cb38ce4",
   "metadata": {},
   "outputs": [],
   "source": []
  }
 ],
 "metadata": {
  "kernelspec": {
   "display_name": "Python 3",
   "language": "python",
   "name": "python3"
  },
  "language_info": {
   "codemirror_mode": {
    "name": "ipython",
    "version": 3
   },
   "file_extension": ".py",
   "mimetype": "text/x-python",
   "name": "python",
   "nbconvert_exporter": "python",
   "pygments_lexer": "ipython3",
   "version": "3.9.1"
  }
 },
 "nbformat": 4,
 "nbformat_minor": 5
}
